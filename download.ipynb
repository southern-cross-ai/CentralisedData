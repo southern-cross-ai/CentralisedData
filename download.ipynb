{
 "cells": [
  {
   "cell_type": "markdown",
   "metadata": {},
   "source": [
    "# Western Sydney Women's Oral History Project: From farms to freeways: Women's memories of Western Sydney"
   ]
  },
  {
   "cell_type": "markdown",
   "metadata": {},
   "source": [
    "For more information regarding the project and the dataset, please visit [Western Sydney University - Western Sydney Women's Oral History Project: From farms to freeways](https://omeka.westernsydney.edu.au/farmstofreeways/). \n",
    "\n",
    "The original dataset includes 34 audio recordings, alone with their interview transcripts, participant photographs, and project material. You can choose to download the whole dataset, or the 34 interview transcripts only. \n",
    "\n",
    "This notebook is used for education and research purposes only. The repository is licensed under MIT."
   ]
  },
  {
   "cell_type": "code",
   "execution_count": 1,
   "metadata": {},
   "outputs": [],
   "source": [
    "# WARNING: DO NOT CHANGE THE FOLLOWING CODE\n",
    "prefix = 'https://research-data.westernsydney.edu.au/default/rdmp/pubrecord/bc45b4d0519311ecb15399911543e199/pubattach/'\n",
    "pub_id = '31f45ab0519411ecb15399911543e199'\n",
    "\n",
    "audio_recording_metadata = {'id':'0cdb44dddabe4082af0afd08b51dd296', 'name':'ftf_audio_for_upload.csv'}\n",
    "transcripts_for_upload = {'id':'dc132d20e28a4aabb32583b13b17f8a7', 'name':'ftf_transcripts_for_upload.csv'}\n",
    "photographs_metadata = {'id':'bc45b4d0519311ecb15399911543e199', 'name':'ftf_images_for_upload.csv'}\n",
    "thank_you_notes_and_letters_metadata = {'id':'976fefa533754a2f9e035ed97965ba6d', 'name':'ftf_letters_for_upload.csv'}\n",
    "project_materials_metadata = {'id':'2464028287574f8c883bfc987c600df3', 'name':'ftf_projectMaterials_for_upload.csv'}\n",
    "relationships_between_interviewee_items = {'id':'ec80f70ec5974cc6abdf04db7a994a30', 'name':'ftf_item_relationships.rtf'}\n",
    "export_of_all_items = {'id':'db5949d5a36f4ab085bca6edf69118f5', 'name':'ftf_allItems_output.xml'}\n",
    "plain_text_format_transcripts = {'id':'6627738d4a73422786bfc350aac0ff1c', 'name':'ftf_transcripts_plaintext.zip'}\n",
    "pdf_format_transcripts = {'id':'6dff96b8f2444a8aaf15e479c7c74ce6', 'name':'ftf_transcripts_pdfa.zip'}\n",
    "jpeg_images = {'id':'63ee58806c2347fd862a7c6f3af181b1', 'name':'ftf_photographs.zip'}"
   ]
  },
  {
   "cell_type": "code",
   "execution_count": 2,
   "metadata": {},
   "outputs": [
    {
     "name": "stdout",
     "output_type": "stream",
     "text": [
      "File downloaded and saved as dataset/ftf_audio_for_upload.csv\n",
      "File downloaded and saved as dataset/ftf_transcripts_for_upload.csv\n",
      "File downloaded and saved as dataset/ftf_images_for_upload.csv\n",
      "File downloaded and saved as dataset/ftf_letters_for_upload.csv\n",
      "File downloaded and saved as dataset/ftf_projectMaterials_for_upload.csv\n",
      "File downloaded and saved as dataset/ftf_item_relationships.rtf\n",
      "File downloaded and saved as dataset/ftf_allItems_output.xml\n",
      "File downloaded and saved as dataset/ftf_transcripts_plaintext.zip\n",
      "File is unzipped and saved as dataset/ftf_transcripts_plaintext\n",
      "File downloaded and saved as dataset/ftf_transcripts_pdfa.zip\n",
      "File is unzipped and saved as dataset/ftf_transcripts_pdfa\n",
      "File downloaded and saved as dataset/ftf_photographs.zip\n",
      "File is unzipped and saved as dataset/ftf_photographs\n"
     ]
    }
   ],
   "source": [
    "import os\n",
    "import zipfile\n",
    "\n",
    "import requests\n",
    "\n",
    "\n",
    "def download(save_path=None, file_name=plain_text_format_transcripts, unzip=True):\n",
    "    \"\"\"Download and unzip the dataset.\n",
    "\n",
    "    Args:\n",
    "        save_path (str, optional): The root path to save the file. If the save_path is None, \n",
    "            the file will be saved in the current directory. Defaults to None.\n",
    "        file_name (dict or list[dict], optional): The file(s) you want to download. Download only\n",
    "            plain_text_format_transcripts by default. Defaults to plain_text_format_transcripts.\n",
    "        unzip (bool, optional): Whether to unzip downloaded files. Defaults to True.\n",
    "    \"\"\"\n",
    "    if type(file_name) == dict:\n",
    "        file_name = [file_name]\n",
    "\n",
    "    for file in file_name:\n",
    "        url = prefix + file['id'] + '?pubId=' + pub_id\n",
    "        # Send a GET request to the URL\n",
    "        response = requests.get(url)\n",
    "        # Specify the local file path where you want to save the ZIP file\n",
    "        file_path = save_path + '/' + \\\n",
    "            file['name'] if save_path else file['name']\n",
    "        # Write the content of the response to a file\n",
    "        if not os.path.exists(save_path):\n",
    "            os.mkdir(save_path)\n",
    "        with open(file_path, 'wb') as f:\n",
    "            f.write(response.content)\n",
    "        print(f\"File downloaded and saved as {file_path}\")\n",
    "        # Unzip files if needed\n",
    "        if file['name'].split('.')[-1] == 'zip' and unzip:\n",
    "            with zipfile.ZipFile(file_path, 'r') as f:\n",
    "                # Extract all the contents into the directory\n",
    "                f.extractall(file_path.split('.')[0])\n",
    "            print(f\"File is unzipped and saved as {file_path.split('.')[0]}\")\n",
    "\n",
    "\n",
    "# Replace file_name as all if you want to download all data\n",
    "all = [audio_recording_metadata, transcripts_for_upload, photographs_metadata,\n",
    "       thank_you_notes_and_letters_metadata, project_materials_metadata,\n",
    "       relationships_between_interviewee_items, export_of_all_items,\n",
    "       plain_text_format_transcripts, pdf_format_transcripts, jpeg_images]\n",
    "# Download all data into the directory named dataset\n",
    "download(save_path='dataset', file_name=all, unzip=True)\n",
    "\n",
    "\n",
    "# Or replace file_name as files_to_download and choose which files you want to download\n",
    "# files_to_download = [plain_text_format_transcripts, pdf_format_transcripts]\n",
    "# download(save_path='dataset', file_name=files_to_download, unzip=True)\n",
    "\n",
    "\n",
    "# This will only download and unzip only the interview transcript\n",
    "# download(save_path='dataset', file_name=plain_text_format_transcripts, unzip=True)"
   ]
  }
 ],
 "metadata": {
  "kernelspec": {
   "display_name": "data_scraping",
   "language": "python",
   "name": "python3"
  },
  "language_info": {
   "codemirror_mode": {
    "name": "ipython",
    "version": 3
   },
   "file_extension": ".py",
   "mimetype": "text/x-python",
   "name": "python",
   "nbconvert_exporter": "python",
   "pygments_lexer": "ipython3",
   "version": "3.12.4"
  }
 },
 "nbformat": 4,
 "nbformat_minor": 2
}
